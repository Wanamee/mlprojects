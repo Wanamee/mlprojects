{
 "cells": [
  {
   "cell_type": "markdown",
   "id": "6d975ccc",
   "metadata": {},
   "source": [
    "## Linear regression without sklearn"
   ]
  },
  {
   "cell_type": "code",
   "execution_count": 2,
   "id": "a914f3b6",
   "metadata": {},
   "outputs": [],
   "source": [
    "import csv\n",
    "import numpy as np\n",
    "\n",
    "X = []\n",
    "y = []\n",
    "with open('insurance.csv', 'r') as file:\n",
    "    next(file)\n",
    "    for line in file:\n",
    "        values = line.strip().split(',')\n",
    "        age = float(values[0])\n",
    "        bmi = float(values[2])\n",
    "        children = float(values[3])\n",
    "        smoker = 1.0 if values[4] == 'yes' else 0.0\n",
    "        region = float({'southwest': 0, 'southeast': 1, 'northwest': 2, 'northeast': 3}.get(values[5], 0))\n",
    "        charges = float(values[6])\n",
    "        X.append([age, bmi, children, smoker, region])\n",
    "        y.append(charges)"
   ]
  },
  {
   "cell_type": "code",
   "execution_count": 3,
   "id": "1666ee6f",
   "metadata": {},
   "outputs": [],
   "source": [
    "X = np.array(X)\n",
    "X_mean = np.mean(X, axis=0)\n",
    "X_std = np.std(X, axis=0)\n",
    "X_normalized = (X - X_mean) / X_std"
   ]
  },
  {
   "cell_type": "code",
   "execution_count": 4,
   "id": "efaf7e47",
   "metadata": {},
   "outputs": [],
   "source": [
    "correlations = []\n",
    "for j in range(X_normalized.shape[1]):\n",
    "    x_j = X_normalized[:, j]\n",
    "    correlation = np.corrcoef(x_j, y)[0, 1]\n",
    "    correlations.append(correlation)"
   ]
  },
  {
   "cell_type": "code",
   "execution_count": 5,
   "id": "7b6fea03",
   "metadata": {},
   "outputs": [
    {
     "name": "stdout",
     "output_type": "stream",
     "text": [
      "Correlations between features and target (charges):\n",
      "Correlation_0: 0.29901\n",
      "Correlation_1: 0.19834\n",
      "Correlation_2: 0.06800\n",
      "Correlation_3: 0.78725\n",
      "Correlation_4: 0.00621\n"
     ]
    }
   ],
   "source": [
    "print(\"Correlations between features and target (charges):\")\n",
    "for j, correlation in enumerate(correlations):\n",
    "    print(f\"Correlation_{j}: {correlation:.5f}\")"
   ]
  },
  {
   "cell_type": "code",
   "execution_count": 6,
   "id": "641deb82",
   "metadata": {},
   "outputs": [],
   "source": [
    "correlation_threshold = 0.05\n",
    "selected_features = []\n",
    "\n",
    "for feature in range(len(correlations)):\n",
    "    correlation = correlations[feature]\n",
    "    if abs(correlation) >= correlation_threshold:\n",
    "        selected_features.append(feature) \n",
    "\n",
    "X_selected = []\n",
    "for row in X_normalized:\n",
    "    selected_row = [row[i] for i in selected_features]\n",
    "    X_selected.append(selected_row)\n",
    "\n",
    "X_selected = np.array(X_selected)"
   ]
  },
  {
   "cell_type": "code",
   "execution_count": 7,
   "id": "d1df855f",
   "metadata": {
    "scrolled": true
   },
   "outputs": [],
   "source": [
    "learning_rate = 0.05\n",
    "num_epochs = 1000\n",
    "\n",
    "num_features = len(selected_features)\n",
    "coefficients1 = [0.0] * num_features\n",
    "\n",
    "for epoch in range(num_epochs):\n",
    "    error = np.dot(X_selected, coefficients1) - y\n",
    "    gradients = np.dot(X_selected.T, error) / len(X_selected)\n",
    "    coefficients1 -= learning_rate * gradients\n",
    "intercept1 = np.mean(y) - np.sum([coefficients1[j] * np.mean(X_selected[:, j]) for j in range(num_features)])"
   ]
  },
  {
   "cell_type": "code",
   "execution_count": 8,
   "id": "da15677a",
   "metadata": {},
   "outputs": [
    {
     "name": "stdout",
     "output_type": "stream",
     "text": [
      "Intercept: 13270.42227\n",
      "Coefficients without manual libraries after correlation:\n",
      "Coef_0: 3621.42131\n",
      "Coef_1: 1961.97642\n",
      "Coef_2: 570.59026\n",
      "Coef_3: 9608.92735\n"
     ]
    }
   ],
   "source": [
    "print(f\"Intercept: {intercept1:.5f}\")\n",
    "print(\"Coefficients without manual libraries after correlation:\")\n",
    "for j, coef1 in enumerate(coefficients1):\n",
    "    print(f\"Coef_{j}: {coef1:.5f}\")"
   ]
  },
  {
   "cell_type": "markdown",
   "id": "80371f12",
   "metadata": {},
   "source": [
    "## Linear regression with sklearn"
   ]
  },
  {
   "cell_type": "code",
   "execution_count": 10,
   "id": "acd6d326",
   "metadata": {},
   "outputs": [
    {
     "name": "stdout",
     "output_type": "stream",
     "text": [
      "Coefficients using scikit-learn:\n",
      "Intercept: 13270.42227\n",
      "Coef_0: 3615.17881\n",
      "Coef_1: 2024.09717\n",
      "Coef_2: 576.54094\n",
      "Coef_3: 9607.64125\n",
      "Coef_4: 390.37465\n"
     ]
    }
   ],
   "source": [
    "from sklearn.linear_model import LinearRegression\n",
    "\n",
    "model = LinearRegression()\n",
    "model.fit(X_normalized, y)\n",
    "\n",
    "intercept2 = model.intercept_\n",
    "coefficients2 = model.coef_\n",
    "\n",
    "print(\"Coefficients using scikit-learn:\")\n",
    "print(f\"Intercept: {intercept2:.5f}\")\n",
    "for j, coef2 in enumerate(coefficients2):\n",
    "    print(f\"Coef_{j}: {coef2:.5f}\")"
   ]
  },
  {
   "cell_type": "markdown",
   "id": "3ec272b3",
   "metadata": {},
   "source": [
    "## Compare intercept и coefficients"
   ]
  },
  {
   "cell_type": "code",
   "execution_count": 12,
   "id": "2e6987a1",
   "metadata": {},
   "outputs": [
    {
     "name": "stdout",
     "output_type": "stream",
     "text": [
      "                Manual    Scikit-learn\n",
      "---------  -----------  --------------\n",
      "Intercept  13270.42227     13270.42227\n",
      "Coef_0      3621.11697      3615.17881\n",
      "Coef_1      1962.12906      2024.09717\n",
      "Coef_2       570.68414       576.54094\n",
      "Coef_3      9608.45778      9607.64125\n"
     ]
    }
   ],
   "source": [
    "from tabulate import tabulate\n",
    "\n",
    "intercept1 = 13270.42227\n",
    "coef1 = [3621.11697, 1962.12906, 570.68414, 9608.45778]\n",
    "\n",
    "intercept2 = 13270.42227\n",
    "coef2 = [3615.17881, 2024.09717, 576.54094, 9607.64125, 390.37465]\n",
    "\n",
    "\n",
    "\n",
    "coef_table = [\n",
    "    [\"Intercept\", intercept1, intercept2],\n",
    "    [\"Coef_0\", coef1[0], coef2[0]],\n",
    "    [\"Coef_1\", coef1[1], coef2[1]],\n",
    "    [\"Coef_2\", coef1[2], coef2[2]],\n",
    "    [\"Coef_3\", coef1[3], coef2[3]],\n",
    "]\n",
    "\n",
    "headers = [\"\", \"Manual\", \"Scikit-learn\"]\n",
    "\n",
    "print(tabulate(coef_table, headers=headers, floatfmt=\".5f\"))"
   ]
  },
  {
   "cell_type": "code",
   "execution_count": null,
   "id": "5832fd00",
   "metadata": {},
   "outputs": [],
   "source": []
  }
 ],
 "metadata": {
  "kernelspec": {
   "display_name": "Python 3 (ipykernel)",
   "language": "python",
   "name": "python3"
  },
  "language_info": {
   "codemirror_mode": {
    "name": "ipython",
    "version": 3
   },
   "file_extension": ".py",
   "mimetype": "text/x-python",
   "name": "python",
   "nbconvert_exporter": "python",
   "pygments_lexer": "ipython3",
   "version": "3.12.4"
  }
 },
 "nbformat": 4,
 "nbformat_minor": 5
}
